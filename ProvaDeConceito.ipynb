{
 "cells": [
  {
   "cell_type": "code",
   "execution_count": null,
   "metadata": {},
   "outputs": [],
   "source": [
    "%pip install torchvision"
   ]
  },
  {
   "cell_type": "code",
   "execution_count": 1,
   "metadata": {},
   "outputs": [
    {
     "name": "stdout",
     "output_type": "stream",
     "text": [
      "['.git', 'README.md']\n"
     ]
    }
   ],
   "source": [
    "import torch\n",
    "import os\n",
    "import torchvision.datasets as datasets\n",
    "import torchvision.transforms as transforms\n",
    "\n",
    "print(os.listdir(\"TCC\"))\n",
    "\n",
    "# Define the path to the folder containing the images\n",
    "#data_path = 'images'\n",
    "\n",
    "\n",
    "# Load the images from the folder and apply the transformation\n",
    "#dataset = datasets.ImageFolder(\"images\")\n",
    "\n",
    "\n",
    "# Access an image and its label\n",
    "#image, label = dataset[0]"
   ]
  }
 ],
 "metadata": {
  "kernelspec": {
   "display_name": "Python 3",
   "language": "python",
   "name": "python3"
  },
  "language_info": {
   "codemirror_mode": {
    "name": "ipython",
    "version": 3
   },
   "file_extension": ".py",
   "mimetype": "text/x-python",
   "name": "python",
   "nbconvert_exporter": "python",
   "pygments_lexer": "ipython3",
   "version": "3.11.2"
  },
  "orig_nbformat": 4
 },
 "nbformat": 4,
 "nbformat_minor": 2
}
