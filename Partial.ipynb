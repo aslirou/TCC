{
 "cells": [
  {
   "cell_type": "code",
   "execution_count": 13,
   "metadata": {},
   "outputs": [],
   "source": [
    "import torch\n",
    "import networkx as nx\n",
    "import os"
   ]
  },
  {
   "cell_type": "code",
   "execution_count": 14,
   "metadata": {},
   "outputs": [],
   "source": [
    "def show_files(folder):\n",
    "    for ind in range(len(folder)):\n",
    "        print(f\"{ind:3}: {folder[ind]}\")\n"
   ]
  },
  {
   "cell_type": "code",
   "execution_count": 15,
   "metadata": {},
   "outputs": [
    {
     "name": "stdout",
     "output_type": "stream",
     "text": [
      "  0: a_mimir.jpg\n",
      "  1: baby.jpg\n",
      "  2: cafezin.jpg\n",
      "  3: chuva.jpg\n",
      "  4: end.jpg\n",
      "  5: end_cervejada.jpg\n",
      "  6: fatos.png\n",
      "  7: festa_espelho.jpg\n",
      "  8: fred.jpg\n",
      "  9: gato_move.jpg\n",
      " 10: gato_rack.jpg\n",
      " 11: gato_tv.jpg\n",
      " 12: jojo.jpg\n",
      " 13: o_palhaco.jpg\n",
      " 14: rick_chuva.jpg\n",
      " 15: rick_end_cervejada.jpg\n",
      " 16: rick_end_fantasia.jpg\n",
      " 17: rieck.jpg\n",
      " 18: serec.jpg\n",
      " 19: serio.jpg\n",
      " 20: simba_intenso.jpg\n",
      " 21: sky.jpg\n",
      " 22: veloso.jpg\n",
      " 23: vlad.jpg\n"
     ]
    }
   ],
   "source": [
    "img_folder = \"./images/\"\n",
    "arr = os.listdir(img_folder)\n",
    "arr = [f for f in arr if os.path.isfile(f\"{img_folder}{f}\")]\n",
    "arr.sort()\n",
    "show_files(arr)"
   ]
  },
  {
   "cell_type": "code",
   "execution_count": 16,
   "metadata": {},
   "outputs": [
    {
     "name": "stdout",
     "output_type": "stream",
     "text": [
      "  0: ./images/a_mimir.jpg\n",
      "  1: ./images/baby.jpg\n",
      "  2: ./images/cafezin.jpg\n",
      "  3: ./images/chuva.jpg\n",
      "  4: ./images/end.jpg\n",
      "  5: ./images/end_cervejada.jpg\n",
      "  6: ./images/fatos.png\n",
      "  7: ./images/festa_espelho.jpg\n",
      "  8: ./images/fred.jpg\n",
      "  9: ./images/gato_move.jpg\n",
      " 10: ./images/gato_rack.jpg\n",
      " 11: ./images/gato_tv.jpg\n",
      " 12: ./images/jojo.jpg\n",
      " 13: ./images/o_palhaco.jpg\n",
      " 14: ./images/rick_chuva.jpg\n",
      " 15: ./images/rick_end_cervejada.jpg\n",
      " 16: ./images/rick_end_fantasia.jpg\n",
      " 17: ./images/rieck.jpg\n",
      " 18: ./images/serec.jpg\n",
      " 19: ./images/serio.jpg\n",
      " 20: ./images/simba_intenso.jpg\n",
      " 21: ./images/sky.jpg\n",
      " 22: ./images/veloso.jpg\n",
      " 23: ./images/vlad.jpg\n"
     ]
    }
   ],
   "source": [
    "\n",
    "img_paths = []\n",
    "for ind in range(len(arr)):\n",
    "    path = f\"{img_folder}{arr[ind]}\"\n",
    "    img_paths.append(path)\n",
    "\n",
    "show_files(img_paths)"
   ]
  },
  {
   "cell_type": "code",
   "execution_count": 18,
   "metadata": {},
   "outputs": [
    {
     "name": "stderr",
     "output_type": "stream",
     "text": [
      "Using cache found in /home/rick/.cache/torch/hub/ultralytics_yolov5_master\n",
      "YOLOv5 🚀 2023-5-19 Python-3.11.3 torch-2.0.1+cpu CPU\n",
      "\n",
      "Fusing layers... \n"
     ]
    },
    {
     "name": "stdout",
     "output_type": "stream",
     "text": [
      "\u001b[31m\u001b[1mrequirements:\u001b[0m /home/rick/Documents/University/TCC/TCC/lib/python3.11/site-packages/requirements.txt not found, check failed.\n"
     ]
    },
    {
     "name": "stderr",
     "output_type": "stream",
     "text": [
      "YOLOv5s summary: 213 layers, 7225885 parameters, 0 gradients\n",
      "Adding AutoShape... \n"
     ]
    }
   ],
   "source": [
    "model = torch.hub.load('ultralytics/yolov5', 'yolov5s', pretrained=True)\n",
    "# model.cuda()\n",
    "\n",
    "results = model(img_paths, size=960) # múltiplo de 32"
   ]
  },
  {
   "cell_type": "code",
   "execution_count": null,
   "metadata": {},
   "outputs": [],
   "source": []
  }
 ],
 "metadata": {
  "kernelspec": {
   "display_name": "TCC",
   "language": "python",
   "name": "python3"
  },
  "language_info": {
   "codemirror_mode": {
    "name": "ipython",
    "version": 3
   },
   "file_extension": ".py",
   "mimetype": "text/x-python",
   "name": "python",
   "nbconvert_exporter": "python",
   "pygments_lexer": "ipython3",
   "version": "3.11.3"
  },
  "orig_nbformat": 4
 },
 "nbformat": 4,
 "nbformat_minor": 2
}
