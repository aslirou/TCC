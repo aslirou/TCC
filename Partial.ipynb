{
 "cells": [
  {
   "cell_type": "code",
   "execution_count": 1,
   "metadata": {},
   "outputs": [],
   "source": [
    "import torch\n",
    "import networkx as nx\n",
    "import matplotlib.pyplot as plt\n",
    "import pandas as pd\n",
    "import os"
   ]
  },
  {
   "cell_type": "code",
   "execution_count": 2,
   "metadata": {},
   "outputs": [],
   "source": [
    "def show_files(folder):\n",
    "    for ind in range(len(folder)):\n",
    "        print(f\"{ind:3}: {folder[ind]}\")"
   ]
  },
  {
   "cell_type": "code",
   "execution_count": 3,
   "metadata": {},
   "outputs": [
    {
     "name": "stdout",
     "output_type": "stream",
     "text": [
      "  0: 20220420_180907.jpg\n",
      "  1: baby.jpg\n",
      "  2: cafezin.jpg\n",
      "  3: chuva.jpg\n",
      "  4: end.jpg\n",
      "  5: end_cervejada.jpg\n",
      "  6: fatos.png\n",
      "  7: festa_espelho.jpg\n",
      "  8: fred.jpg\n",
      "  9: gato_move.jpg\n",
      " 10: gato_rack.jpg\n",
      " 11: gato_tv.jpg\n",
      " 12: jojo.jpg\n",
      " 13: o_palhaco.jpg\n",
      " 14: rick_chuva.jpg\n",
      " 15: rick_end_cervejada.jpg\n",
      " 16: rick_end_fantasia.jpg\n",
      " 17: rieck.jpg\n",
      " 18: serec.jpg\n",
      " 19: serio.jpg\n",
      " 20: simba_intenso.jpg\n",
      " 21: sky.jpg\n",
      " 22: veloso.jpg\n",
      " 23: vlad.jpg\n"
     ]
    }
   ],
   "source": [
    "img_folder = \"./images/\"\n",
    "arr = os.listdir(img_folder)\n",
    "arr = [f for f in arr if os.path.isfile(f\"{img_folder}{f}\")]\n",
    "arr.sort()\n",
    "show_files(arr)"
   ]
  },
  {
   "cell_type": "code",
   "execution_count": 4,
   "metadata": {},
   "outputs": [
    {
     "name": "stdout",
     "output_type": "stream",
     "text": [
      "  0: ./images/20220420_180907.jpg\n",
      "  1: ./images/baby.jpg\n",
      "  2: ./images/cafezin.jpg\n",
      "  3: ./images/chuva.jpg\n",
      "  4: ./images/end.jpg\n",
      "  5: ./images/end_cervejada.jpg\n",
      "  6: ./images/fatos.png\n",
      "  7: ./images/festa_espelho.jpg\n",
      "  8: ./images/fred.jpg\n",
      "  9: ./images/gato_move.jpg\n",
      " 10: ./images/gato_rack.jpg\n",
      " 11: ./images/gato_tv.jpg\n",
      " 12: ./images/jojo.jpg\n",
      " 13: ./images/o_palhaco.jpg\n",
      " 14: ./images/rick_chuva.jpg\n",
      " 15: ./images/rick_end_cervejada.jpg\n",
      " 16: ./images/rick_end_fantasia.jpg\n",
      " 17: ./images/rieck.jpg\n",
      " 18: ./images/serec.jpg\n",
      " 19: ./images/serio.jpg\n",
      " 20: ./images/simba_intenso.jpg\n",
      " 21: ./images/sky.jpg\n",
      " 22: ./images/veloso.jpg\n",
      " 23: ./images/vlad.jpg\n"
     ]
    }
   ],
   "source": [
    "img_paths = []\n",
    "for ind in range(len(arr)):\n",
    "    path = f\"{img_folder}{arr[ind]}\"\n",
    "    img_paths.append(path)\n",
    "\n",
    "show_files(img_paths)"
   ]
  },
  {
   "cell_type": "code",
   "execution_count": 5,
   "metadata": {},
   "outputs": [
    {
     "name": "stderr",
     "output_type": "stream",
     "text": [
      "Using cache found in /home/rick/.cache/torch/hub/ultralytics_yolov5_master\n",
      "YOLOv5 🚀 2023-5-19 Python-3.11.3 torch-2.0.1+cpu CPU\n",
      "\n",
      "Fusing layers... \n"
     ]
    },
    {
     "name": "stdout",
     "output_type": "stream",
     "text": [
      "\u001b[31m\u001b[1mrequirements:\u001b[0m /home/rick/Documents/University/TCC/TCC/lib/python3.11/site-packages/requirements.txt not found, check failed.\n"
     ]
    },
    {
     "name": "stderr",
     "output_type": "stream",
     "text": [
      "YOLOv5l6 summary: 476 layers, 76726332 parameters, 0 gradients\n",
      "Adding AutoShape... \n"
     ]
    }
   ],
   "source": [
    "model = torch.hub.load('ultralytics/yolov5', 'yolov5l6', pretrained=True)\n",
    "# model.cuda()\n",
    "\n",
    "results = model(img_paths, size=1280) # múltiplo de 32"
   ]
  },
  {
   "cell_type": "code",
   "execution_count": 6,
   "metadata": {},
   "outputs": [
    {
     "data": {
      "text/plain": [
       "['backpack',\n",
       " 'bed',\n",
       " 'bench',\n",
       " 'book',\n",
       " 'bottle',\n",
       " 'bus',\n",
       " 'cake',\n",
       " 'cat',\n",
       " 'cell phone',\n",
       " 'chair',\n",
       " 'cup',\n",
       " 'dining table',\n",
       " 'dog',\n",
       " 'group',\n",
       " 'handbag',\n",
       " 'pair',\n",
       " 'person',\n",
       " 'remote',\n",
       " 'tie',\n",
       " 'toilet',\n",
       " 'trio',\n",
       " 'tv']"
      ]
     },
     "execution_count": 6,
     "metadata": {},
     "output_type": "execute_result"
    }
   ],
   "source": [
    "\n",
    "tags = results.pandas().xyxy[7][[\"name\"]].groupby(\"name\").value_counts()\n",
    "tag_list = list(zip(tags.index, tags))\n",
    "tag_list[0]\n",
    "\n",
    "res = pd.concat(results.pandas().xyxy)\n",
    "tags_res = res[['name']].groupby('name').value_counts().index\n",
    "tags_res = list(tags_res)\n",
    "tags_res.append('group')\n",
    "tags_res.append('trio')\n",
    "tags_res.append('pair')\n",
    "tags_res.sort()\n",
    "\n",
    "tags_res"
   ]
  },
  {
   "cell_type": "code",
   "execution_count": 7,
   "metadata": {},
   "outputs": [],
   "source": [
    "DG = nx.DiGraph()"
   ]
  },
  {
   "cell_type": "code",
   "execution_count": 8,
   "metadata": {},
   "outputs": [],
   "source": [
    "for i in range(len(arr)):\n",
    "    tag = results.pandas().xyxy[i][[\"name\"]].groupby(\"name\").value_counts()\n",
    "    tags = list(zip(tag.index, tag))\n",
    "\n",
    "    img_name = arr[i]\n",
    "\n",
    "    for j in range(len(tags)):\n",
    "        tag_name = tags[j][0]\n",
    "        tag_quant = tags[j][1]\n",
    "        \n",
    "        DG.add_edge(tag_name, img_name) # ligando nome da classe identificada com o nome do arquivo\n",
    "        if tag_name == 'person':\n",
    "            if tag_quant == 2:\n",
    "                DG.add_edge('pair', img_name)\n",
    "            elif tag_quant == 3:\n",
    "                DG.add_edge('trio', img_name)\n",
    "            if tag_quant > 3:\n",
    "                DG.add_edge('group', img_name)"
   ]
  },
  {
   "cell_type": "code",
   "execution_count": 9,
   "metadata": {},
   "outputs": [
    {
     "name": "stdout",
     "output_type": "stream",
     "text": [
      "44\n",
      "62\n"
     ]
    }
   ],
   "source": [
    "nx.draw_shell(DG, with_labels=True, font_weight='bold')\n",
    "\n",
    "print(DG.number_of_nodes())\n",
    "print(DG.number_of_edges())\n",
    "\n",
    "plt.show()\n",
    "plt.savefig(\"results/path.png\")\n",
    "plt.clf()"
   ]
  },
  {
   "cell_type": "code",
   "execution_count": 10,
   "metadata": {},
   "outputs": [],
   "source": [
    "pos = nx.bipartite_layout(DG, tags_res, aspect_ratio=9/16)\n",
    "nx.draw(DG, pos, with_labels=True, font_weight='bold')\n",
    "plt.savefig('results/columns.png')\n",
    "plt.clf()"
   ]
  }
 ],
 "metadata": {
  "kernelspec": {
   "display_name": "TCC",
   "language": "python",
   "name": "python3"
  },
  "language_info": {
   "codemirror_mode": {
    "name": "ipython",
    "version": 3
   },
   "file_extension": ".py",
   "mimetype": "text/x-python",
   "name": "python",
   "nbconvert_exporter": "python",
   "pygments_lexer": "ipython3",
   "version": "3.11.3"
  },
  "orig_nbformat": 4
 },
 "nbformat": 4,
 "nbformat_minor": 2
}
